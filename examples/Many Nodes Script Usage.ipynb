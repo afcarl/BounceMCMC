{
 "cells": [
  {
   "cell_type": "code",
   "execution_count": null,
   "metadata": {
    "collapsed": true
   },
   "outputs": [],
   "source": [
    "for i in range(0,128):\n",
    "\tname = \"N4ALAL_hyper_smala_{i}.py\".format(i=i)\n",
    "\tcode = \"\"\"import observations\n",
    "import state\n",
    "import mcmc\n",
    "import driver\n",
    "import numpy as np\n",
    "import hashlib\n",
    "from datetime import datetime\n",
    "import matplotlib.pyplot as plt\n",
    "\n",
    "niter_smala, eps, alpha = 10000, 1.15, 1.0\n",
    "\n",
    "sol = [0.3200, 0.15, -0.11, 0.001965, 1.7, 0.58, 0.0, 0.0, 0.0013, 1.0]\n",
    "\n",
    "initial_state = state.State(planets=[{\"m\":sol[3], \"a\":sol[0], \"h\":sol[1], \"k\":sol[2], \"l\":sol[4]}, {\"m\":sol[8], \"a\":sol[5], \"l\":sol[9]}], ignore_vars=['m', 'h', 'k'])\n",
    "initial_state.hillRadiusFactor = 2.\n",
    "\n",
    "np.random.seed(2017)\n",
    "obs = driver.create_obs(initial_state, 250, 3.5e-4, 7.e-5, 10.5)\n",
    "np.random.seed(2017+%s)\n",
    "hyperdelta = np.exp(np.random.uniform(0,6.9))/100.\n",
    "if(np.random.uniform() < 0.5):\n",
    "\teps = eps*(1.+hyperdelta)\n",
    "else:\n",
    "\teps = eps/(1.+hyperdelta)\n",
    "smala_Bundle, smala_Hash = driver.run_smala('hyper_N4ALAL_sm_%s', niter_smala, initial_state, obs, eps, alpha, 20)\n",
    "driver.save_data(smala_Bundle, smala_Hash)\n",
    "driver.save_aux(smala_Bundle, smala_Hash)\n",
    "\"\"\"\n",
    "\twith open(name, 'w') as python_file:\n",
    "\t\tpython_file.write(code%(i,i))"
   ]
  }
 ],
 "metadata": {
  "kernelspec": {
   "display_name": "Python 2",
   "language": "python",
   "name": "python2"
  },
  "language_info": {
   "codemirror_mode": {
    "name": "ipython",
    "version": 2
   },
   "file_extension": ".py",
   "mimetype": "text/x-python",
   "name": "python",
   "nbconvert_exporter": "python",
   "pygments_lexer": "ipython2",
   "version": "2.7.12"
  }
 },
 "nbformat": 4,
 "nbformat_minor": 2
}
