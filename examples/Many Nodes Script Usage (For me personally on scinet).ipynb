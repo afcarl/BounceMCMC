{
 "cells": [
  {
   "cell_type": "markdown",
   "metadata": {},
   "source": [
    "Python generating script."
   ]
  },
  {
   "cell_type": "code",
   "execution_count": 1,
   "metadata": {
    "collapsed": true
   },
   "outputs": [],
   "source": [
    "for i in range(0,128):\n",
    "\tname = \"N4ALAL_hyper_smala_{i}.py\".format(i=i)\n",
    "\tcode = \"\"\"import observations\n",
    "import state\n",
    "import mcmc\n",
    "import driver\n",
    "import numpy as np\n",
    "import hashlib\n",
    "from datetime import datetime\n",
    "import matplotlib.pyplot as plt\n",
    "\n",
    "niter_smala, eps, alpha = 10000, 1.15, 1.0\n",
    "\n",
    "sol = [0.3200, 0.15, -0.11, 0.001965, 1.7, 0.58, 0.0, 0.0, 0.0013, 1.0]\n",
    "\n",
    "initial_state = state.State(planets=[{\"m\":sol[3], \"a\":sol[0], \"h\":sol[1], \"k\":sol[2], \"l\":sol[4]}, {\"m\":sol[8], \"a\":sol[5], \"l\":sol[9]}], ignore_vars=['m', 'h', 'k'])\n",
    "initial_state.hillRadiusFactor = 2.\n",
    "\n",
    "np.random.seed(2017)\n",
    "obs = driver.create_obs(initial_state, 250, 3.5e-4, 7.e-5, 10.5)\n",
    "np.random.seed(2017+%s)\n",
    "hyperdelta = np.exp(np.random.uniform(0,6.9))/100.\n",
    "if(np.random.uniform() < 0.5):\n",
    "\teps = eps*(1.+hyperdelta)\n",
    "else:\n",
    "\teps = eps/(1.+hyperdelta)\n",
    "smala_Bundle, smala_Hash = driver.run_smala('hyper_N4ALAL_sm_%s', niter_smala, initial_state, obs, eps, alpha, 20)\n",
    "driver.save_data(smala_Bundle, smala_Hash)\n",
    "driver.save_aux(smala_Bundle, smala_Hash)\n",
    "\"\"\"\n",
    "#\twith open(name, 'w') as python_file:\n",
    "#\t\tpython_file.write(code%(i,i))"
   ]
  },
  {
   "cell_type": "markdown",
   "metadata": {},
   "source": [
    "Run these .py files on many cores using a .sh script."
   ]
  },
  {
   "cell_type": "code",
   "execution_count": 2,
   "metadata": {},
   "outputs": [
    {
     "data": {
      "text/plain": [
       "'\\n#!/bin/bash\\n# MOAB/Torque submission script for multiple serial jobs on\\n# SciNet GPC\\n#\\n#PBS -l nodes=1:ppn=8,walltime=4:44:44\\n#PBS -N serialx8_mcmc_jobs\\n\\n#Module loading\\nmodule load intel/15.0.2 python/2.7.8 use.own emcee/2.2.1 nano/2.2.4\\n \\n# DIRECTORY TO RUN - $PBS_O_WORKDIR is directory job was submitted from\\ncd $PBS_O_WORKDIR\\n \\n# Turn off implicit threading in Python, R\\nexport OMP_NUM_THREADS=1\\n \\n# EXECUTION COMMAND; ampersand off 8 jobs and wait\\n(cd /scratch/r/rein/rleblanc/rebound; python ./mcmc_job0.py) &\\n(cd /scratch/r/rein/rleblanc/rebound; python ./mcmc_job1.py) &\\n(cd /scratch/r/rein/rleblanc/rebound; python ./mcmc_job2.py) &\\n(cd /scratch/r/rein/rleblanc/rebound; python ./mcmc_job3.py) &\\n(cd /scratch/r/rein/rleblanc/rebound; python ./mcmc_job4.py) &\\n(cd /scratch/r/rein/rleblanc/rebound; python ./mcmc_job5.py) &\\n(cd /scratch/r/rein/rleblanc/rebound; python ./mcmc_job6.py) &\\n(cd /scratch/r/rein/rleblanc/rebound; python ./mcmc_job7.py) &\\nwait\\n'"
      ]
     },
     "execution_count": 2,
     "metadata": {},
     "output_type": "execute_result"
    }
   ],
   "source": [
    "'''\n",
    "#!/bin/bash\n",
    "# MOAB/Torque submission script for multiple serial jobs on\n",
    "# SciNet GPC\n",
    "#\n",
    "#PBS -l nodes=1:ppn=8,walltime=4:44:44\n",
    "#PBS -N serialx8_mcmc_jobs\n",
    "\n",
    "#Module loading\n",
    "module load intel/15.0.2 python/2.7.8 use.own emcee/2.2.1 nano/2.2.4\n",
    " \n",
    "# DIRECTORY TO RUN - $PBS_O_WORKDIR is directory job was submitted from\n",
    "cd $PBS_O_WORKDIR\n",
    " \n",
    "# Turn off implicit threading in Python, R\n",
    "export OMP_NUM_THREADS=1\n",
    " \n",
    "# EXECUTION COMMAND; ampersand off 8 jobs and wait\n",
    "(cd /scratch/r/rein/rleblanc/rebound; python ./mcmc_job0.py) &\n",
    "(cd /scratch/r/rein/rleblanc/rebound; python ./mcmc_job1.py) &\n",
    "(cd /scratch/r/rein/rleblanc/rebound; python ./mcmc_job2.py) &\n",
    "(cd /scratch/r/rein/rleblanc/rebound; python ./mcmc_job3.py) &\n",
    "(cd /scratch/r/rein/rleblanc/rebound; python ./mcmc_job4.py) &\n",
    "(cd /scratch/r/rein/rleblanc/rebound; python ./mcmc_job5.py) &\n",
    "(cd /scratch/r/rein/rleblanc/rebound; python ./mcmc_job6.py) &\n",
    "(cd /scratch/r/rein/rleblanc/rebound; python ./mcmc_job7.py) &\n",
    "wait\n",
    "'''"
   ]
  },
  {
   "cell_type": "markdown",
   "metadata": {},
   "source": [
    "For Python code whih fuses the results, see dedicated example ipynb."
   ]
  },
  {
   "cell_type": "code",
   "execution_count": null,
   "metadata": {
    "collapsed": true
   },
   "outputs": [],
   "source": []
  }
 ],
 "metadata": {
  "kernelspec": {
   "display_name": "Python 2",
   "language": "python",
   "name": "python2"
  },
  "language_info": {
   "codemirror_mode": {
    "name": "ipython",
    "version": 2
   },
   "file_extension": ".py",
   "mimetype": "text/x-python",
   "name": "python",
   "nbconvert_exporter": "python",
   "pygments_lexer": "ipython2",
   "version": "2.7.12"
  }
 },
 "nbformat": 4,
 "nbformat_minor": 2
}
